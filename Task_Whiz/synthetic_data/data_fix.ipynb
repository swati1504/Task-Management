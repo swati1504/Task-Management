{
 "cells": [
  {
   "cell_type": "code",
   "execution_count": 1,
   "metadata": {},
   "outputs": [],
   "source": [
    "import pandas as pd"
   ]
  },
  {
   "cell_type": "code",
   "execution_count": 2,
   "metadata": {},
   "outputs": [],
   "source": [
    "data = pd.read_csv('clean_data.csv')"
   ]
  },
  {
   "cell_type": "code",
   "execution_count": 6,
   "metadata": {},
   "outputs": [
    {
     "ename": "TypeError",
     "evalue": "string indices must be integers",
     "output_type": "error",
     "traceback": [
      "\u001b[0;31m---------------------------------------------------------------------------\u001b[0m",
      "\u001b[0;31mTypeError\u001b[0m                                 Traceback (most recent call last)",
      "Cell \u001b[0;32mIn[6], line 2\u001b[0m\n\u001b[1;32m      1\u001b[0m \u001b[38;5;28;01mfor\u001b[39;00m row \u001b[38;5;129;01min\u001b[39;00m data:\n\u001b[0;32m----> 2\u001b[0m     date_list \u001b[38;5;241m=\u001b[39m \u001b[43mrow\u001b[49m\u001b[43m[\u001b[49m\u001b[38;5;124;43m\"\u001b[39;49m\u001b[38;5;124;43mProject_Start_Date\u001b[39;49m\u001b[38;5;124;43m\"\u001b[39;49m\u001b[43m]\u001b[49m\u001b[38;5;241m.\u001b[39msplit(\u001b[38;5;124m'\u001b[39m\u001b[38;5;124m/\u001b[39m\u001b[38;5;124m'\u001b[39m)\n\u001b[1;32m      4\u001b[0m     \u001b[38;5;66;03m# Check and update the year if it's in two-digit format\u001b[39;00m\n\u001b[1;32m      5\u001b[0m     \u001b[38;5;28;01mif\u001b[39;00m \u001b[38;5;28mlen\u001b[39m(date_list[\u001b[38;5;241m2\u001b[39m]) \u001b[38;5;241m==\u001b[39m \u001b[38;5;241m2\u001b[39m:\n",
      "\u001b[0;31mTypeError\u001b[0m: string indices must be integers"
     ]
    }
   ],
   "source": [
    "for row in data:\n",
    "    date_list = row[\"Project_Start_Date\"].split('/')\n",
    "    \n",
    "    # Check and update the year if it's in two-digit format\n",
    "    if len(date_list[2]) == 2:\n",
    "        date_list[2] = str(int(date_list[2]) + 2000)\n",
    "    \n",
    "    # Merge the date components back into a date string\n",
    "    merged_date = '/'.join(date_list)\n",
    "    \n",
    "    # Update the 'Project_Start_Date' in the row with the merged date\n",
    "    row['Project_Start_Date'] = merged_date\n"
   ]
  },
  {
   "cell_type": "code",
   "execution_count": 14,
   "metadata": {},
   "outputs": [],
   "source": [
    "def update_year(date_str):\n",
    "    date_list = date_str.split('/')\n",
    "    \n",
    "    # Check and update the year if it's in two-digit format\n",
    "    if len(date_list) == 3 and len(date_list[2]) == 2:\n",
    "        date_list[2] = str(int(date_list[2]) + 2000)\n",
    "    \n",
    "    # Merge the date components back into a date string\n",
    "    return '/'.join(date_list)\n",
    "\n",
    "# Apply the function to the 'Project_Start_Date' column\n",
    "data['Project_Start_Date'] = data['Project_Start_Date'].apply(update_year)\n",
    "data['Project_Deadline'] = data['Project_Deadline'].apply(update_year)\n",
    "\n",
    "for index, row in data.iterrows():\n",
    "    if row['Projects_Within_Deadline'] > row['Projects_Completed']:\n",
    "        temp = row['Projects_Within_Deadline']\n",
    "        row['Projects_Within_Deadline'] = row['Projects_Completed']\n",
    "        row['Projects_Completed'] = temp\n",
    "\n",
    "# Display the updated DataFrame\n",
    "data.to_csv(\"clean_data.csv\")"
   ]
  },
  {
   "cell_type": "code",
   "execution_count": 13,
   "metadata": {},
   "outputs": [],
   "source": []
  }
 ],
 "metadata": {
  "kernelspec": {
   "display_name": "ML",
   "language": "python",
   "name": "python3"
  },
  "language_info": {
   "codemirror_mode": {
    "name": "ipython",
    "version": 3
   },
   "file_extension": ".py",
   "mimetype": "text/x-python",
   "name": "python",
   "nbconvert_exporter": "python",
   "pygments_lexer": "ipython3",
   "version": "3.8.17"
  }
 },
 "nbformat": 4,
 "nbformat_minor": 2
}
